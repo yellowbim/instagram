{
 "cells": [
  {
   "cell_type": "code",
   "execution_count": 1,
   "metadata": {},
   "outputs": [],
   "source": [
    "import requests\n",
    "from bs4 import BeautifulSoup\n",
    "from selenium.webdriver.common.by import By\n",
    "from selenium.webdriver.support.ui import WebDriverWait\n",
    "from selenium.webdriver.support import expected_conditions as EC\n",
    "import time\n",
    "from selenium import webdriver"
   ]
  },
  {
   "cell_type": "code",
   "execution_count": 112,
   "metadata": {},
   "outputs": [
    {
     "name": "stdout",
     "output_type": "stream",
     "text": [
      "[]\n"
     ]
    }
   ],
   "source": [
    "tag = []\n",
    "br = webdriver.Chrome('chromedriver')\n",
    "br.get('https://www.instagram.com/explore/tags/서울여행')\n",
    "\n",
    "elem = WebDriverWait(br,10).until(EC.presence_of_element_located((By.CSS_SELECTOR,'#react-root > section > main > article > div:nth-child(3) > div > div:nth-child(1) > div:nth-child(1) > a > div.eLAPa > div._9AhH0')))\n",
    "br.find_element_by_css_selector('#react-root > section > main > article > div:nth-child(3) > div > div:nth-child(1) > div:nth-child(1) > a > div.eLAPa > div._9AhH0').click()\n",
    "\n",
    "elem = WebDriverWait(br,10).until(EC.presence_of_element_located((By.CSS_SELECTOR,'body > div.RnEpo._Yhr4 > div.pbNvD.fPMEg._8PWHW > div > div.Igw0E.IwRSH.eGOV_._4EzTm.MGdpg.lDRO1 > div > div > div.gr27e.o7laV > div > form > div:nth-child(6) > button > span.KPnG0')))\n",
    "br.find_element_by_css_selector('body > div.RnEpo._Yhr4 > div.pbNvD.fPMEg._8PWHW > div > div.Igw0E.IwRSH.eGOV_._4EzTm.MGdpg.lDRO1 > div > div > div.gr27e.o7laV > div > form > div:nth-child(6) > button > span.KPnG0').click()\n",
    "br.find_element_by_id('email').send_keys('01024342788')\n",
    "br.find_element_by_id('pass').send_keys('Leejh2622!')\n",
    "br.find_element_by_id('loginbutton').click()\n",
    "\n",
    "elem = WebDriverWait(br,10).until(EC.presence_of_element_located((By.CSS_SELECTOR,'#react-root > section > main > article > div:nth-child(3) > div > div:nth-child(1) > div:nth-child(1) > a > div > div._9AhH0')))\n",
    "\n",
    "br.fin_element_by_css_selector\n",
    "print(a)"
   ]
  },
  {
   "cell_type": "code",
   "execution_count": null,
   "metadata": {},
   "outputs": [],
   "source": []
  }
 ],
 "metadata": {
  "kernelspec": {
   "display_name": "Python 3",
   "language": "python",
   "name": "python3"
  },
  "language_info": {
   "codemirror_mode": {
    "name": "ipython",
    "version": 3
   },
   "file_extension": ".py",
   "mimetype": "text/x-python",
   "name": "python",
   "nbconvert_exporter": "python",
   "pygments_lexer": "ipython3",
   "version": "3.7.6"
  }
 },
 "nbformat": 4,
 "nbformat_minor": 4
}
