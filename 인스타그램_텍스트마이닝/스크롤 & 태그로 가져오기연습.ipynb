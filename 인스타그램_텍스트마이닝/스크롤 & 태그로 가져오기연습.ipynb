{
 "cells": [
  {
   "cell_type": "code",
   "execution_count": 1,
   "metadata": {},
   "outputs": [],
   "source": [
    "import requests\n",
    "from bs4 import BeautifulSoup\n",
    "from selenium.webdriver.common.by import By\n",
    "from selenium.webdriver.support.ui import WebDriverWait\n",
    "from selenium.webdriver.support import expected_conditions as EC\n",
    "import time\n",
    "from selenium import webdriver\n",
    "from selenium.webdriver.common.keys import Keys"
   ]
  },
  {
   "cell_type": "code",
   "execution_count": 32,
   "metadata": {
    "scrolled": true
   },
   "outputs": [
    {
     "name": "stdout",
     "output_type": "stream",
     "text": [
      "['', '대구공고·영남공고·조일고, 군 특성화고 지원 대상 선정', '', '美 플로리다 하루 1만5000명 확진…통제불능 치닫나', '', \"[포토]'양형위원회 제103차 전체회의'\", '', '10여년째 항체 복제약으론 빛 못봤지만…이수앱지스, 항암신약 시장서 반전 노린다', '', '[포토]자료 살펴보는 김영란 위원장', '', '[포토]대법원 양형위원회에서 모두발언하는 김영란 위원장', '', '[포토]대법원 양형위원회 열려', '', '[유레카] 패시브 인컴 / 김회승', '', '김성주 “박원순 꿈꾼 도시 내가 꿈꾼 세상”…진중권 “출마 선언?”', '', '[포토]대법원 양형위원회']\n"
     ]
    }
   ],
   "source": [
    "scroll_cnt = 1\n",
    "tag = []\n",
    "br = webdriver.Chrome('chromedriver')\n",
    "br.get('https://news.naver.com/main/list.nhn?mode=LSD&mid=sec&sid1=001')\n",
    "\n",
    "# 스크롤내림\n",
    "# body = br.find_element_by_css_selector('body')\n",
    "# for i in range(scroll_cnt):\n",
    "#     body.send_keys(Keys.PAGE_DOWN) #실제로 PgDn키를 누른 효과  \n",
    "#     time.sleep(0.5) # 0.5초 기다림\n",
    "#     body.send_keys(Keys.PAGE_DOWN)\n",
    "#     time.sleep(0.5)\n",
    "    \n",
    "html = br.page_source\n",
    "soup = BeautifulSoup(html, 'html.parser')\n",
    "\n",
    "a = soup.find('ul',{'class':'type06_headline'})\n",
    "news = []\n",
    "for i in a.find_all('a'):\n",
    "    news.append(i.text.strip())\n",
    "br.close()\n",
    "print(news)"
   ]
  },
  {
   "cell_type": "code",
   "execution_count": 33,
   "metadata": {},
   "outputs": [
    {
     "name": "stdout",
     "output_type": "stream",
     "text": [
      "\n",
      "----------------------------------------------------------------------------------------------------------------------------------------------------------------------------------------------------------------------------------------------------------\n",
      "대구공고·영남공고·조일고, 군 특성화고 지원 대상 선정\n"
     ]
    }
   ],
   "source": [
    "print(news[0])\n",
    "print('-'*250)\n",
    "print(news[1])"
   ]
  },
  {
   "cell_type": "code",
   "execution_count": null,
   "metadata": {},
   "outputs": [],
   "source": [
    "#무한스크롤\n",
    "SCROLL_PAUSE_TIME = 0.5\n",
    "\n",
    "# Get scroll height\n",
    "last_height = driver.execute_script(\"return document.body.scrollHeight\")\n",
    "\n",
    "while True:\n",
    "    # Scroll down to bottom\n",
    "    driver.execute_script(\"window.scrollTo(0, document.body.scrollHeight);\")\n",
    "\n",
    "    # Wait to load page\n",
    "    time.sleep(SCROLL_PAUSE_TIME)\n",
    "\n",
    "    # Calculate new scroll height and compare with last scroll height\n",
    "    new_height = driver.execute_script(\"return document.body.scrollHeight\")\n",
    "    if new_height == last_height:\n",
    "        break\n",
    "    last_height = new_height"
   ]
  }
 ],
 "metadata": {
  "kernelspec": {
   "display_name": "Python 3",
   "language": "python",
   "name": "python3"
  },
  "language_info": {
   "codemirror_mode": {
    "name": "ipython",
    "version": 3
   },
   "file_extension": ".py",
   "mimetype": "text/x-python",
   "name": "python",
   "nbconvert_exporter": "python",
   "pygments_lexer": "ipython3",
   "version": "3.7.6"
  }
 },
 "nbformat": 4,
 "nbformat_minor": 4
}
